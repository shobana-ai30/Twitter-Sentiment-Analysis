{
  "nbformat": 4,
  "nbformat_minor": 0,
  "metadata": {
    "colab": {
      "name": "Copy of Copy of DMTM Project.ipynb",
      "provenance": [],
      "collapsed_sections": []
    },
    "kernelspec": {
      "display_name": "Python 3",
      "name": "python3"
    },
    "language_info": {
      "name": "python"
    }
  },
  "cells": [
    {
      "cell_type": "markdown",
      "metadata": {
        "id": "BsgO6UY5opXk"
      },
      "source": [
        "Project Code : Jayanth Appalla, Shobana Arumugamangalam"
      ]
    },
    {
      "cell_type": "code",
      "metadata": {
        "colab": {
          "base_uri": "https://localhost:8080/"
        },
        "id": "UiVX6TXkRnLH",
        "outputId": "a35a1dd1-380f-41ab-f103-1a0447891688"
      },
      "source": [
        "import pandas as pd\n",
        "from bs4 import BeautifulSoup\n",
        "from textblob import TextBlob\n",
        "import html\n",
        "import re\n",
        "import nltk\n",
        "from nltk.corpus import stopwords\n",
        "from nltk.tokenize import word_tokenize\n",
        "from nltk.tokenize import word_tokenize\n",
        "from nltk.stem import PorterStemmer\n",
        "from nltk.stem import WordNetLemmatizer\n",
        "from nltk.corpus import wordnet\n",
        "from sklearn import metrics\n",
        "nltk.download('stopwords')\n",
        "nltk.download('punkt')"
      ],
      "execution_count": null,
      "outputs": [
        {
          "output_type": "stream",
          "name": "stdout",
          "text": [
            "[nltk_data] Downloading package stopwords to /root/nltk_data...\n",
            "[nltk_data]   Package stopwords is already up-to-date!\n",
            "[nltk_data] Downloading package punkt to /root/nltk_data...\n",
            "[nltk_data]   Package punkt is already up-to-date!\n"
          ]
        },
        {
          "output_type": "execute_result",
          "data": {
            "text/plain": [
              "True"
            ]
          },
          "metadata": {},
          "execution_count": 127
        }
      ]
    },
    {
      "cell_type": "code",
      "metadata": {
        "id": "THC16fFPi6L_"
      },
      "source": [
        "def read_data(president): # read the data\n",
        "  df = pd.read_excel(r'training-Obama-Romney-tweets.xlsx',president,header=None)\n",
        "  return df"
      ],
      "execution_count": null,
      "outputs": []
    },
    {
      "cell_type": "code",
      "metadata": {
        "id": "y33Xc3aoR-VV"
      },
      "source": [
        "def preprocess(df):\n",
        "  df.drop(index = df.index[:2],axis = 0,inplace=True)\n",
        "  df.rename(columns = {1:\"date\",2:\"time\",3:'Annotated_tweet',4:'Class'},inplace=True)\n",
        "  df = df.loc[df['Class'].isin([-1,0,1,2])]\n",
        "  df = df[['date','time','Annotated_tweet','Class']]\n",
        "  df['Class'] = df['Class'].replace({2:0})\n",
        "  df = df.reset_index() \n",
        "  return df"
      ],
      "execution_count": null,
      "outputs": []
    },
    {
      "cell_type": "code",
      "metadata": {
        "id": "LoykayZz4NOb"
      },
      "source": [
        "def get_tweets(df): # For extracting the tweets\n",
        "  tweets=[]\n",
        "  for row in df.itertuples(index = True):\n",
        "    tweets.append((getattr(row,'Annotated_tweet')))\n",
        "  return tweets\n"
      ],
      "execution_count": null,
      "outputs": []
    },
    {
      "cell_type": "code",
      "metadata": {
        "id": "SEEKTvBWY_8Z"
      },
      "source": [
        "def clean_tweets(tweets):\n",
        "  final_tweets=[]\n",
        "  for i in range (len(tweets)):\n",
        "    temp = str(tweets[i]).replace('\\n','')\n",
        "    temp1 = re.sub(re.compile('<.*?>'),'',temp)\n",
        "    final_tweets.append(temp1)\n",
        "  for i in range(len(final_tweets)):\n",
        "    final_tweets[i] = re.sub(r'(@[A-Za-z0–9_]+)|[^\\w\\s]|#|http\\S+','',final_tweets[i])\n",
        "  return final_tweets "
      ],
      "execution_count": null,
      "outputs": []
    },
    {
      "cell_type": "code",
      "metadata": {
        "id": "N8q4ZJE2hxOL"
      },
      "source": [
        "def clean_tweets2(final_tweets):\n",
        "  sw = stopwords.words('english')\n",
        "  sw.remove('not')\n",
        "  stemmer= PorterStemmer()\n",
        "  final_tweets1=[]\n",
        "  final = []\n",
        "  final1=[]\n",
        "  final2=[]\n",
        "  for i in range(len(final_tweets)):\n",
        "    final_tweets1.append(word_tokenize(final_tweets[i]))\n",
        "\n",
        "  for i in range(len(final_tweets1)):\n",
        "    final_tweets1[i] = [word for word in final_tweets1[i] if not word in sw]\n",
        "\n",
        "  for i in range(len(final_tweets1)):\n",
        "    l = ''.join([str(elem) for elem in final_tweets[i]])\n",
        "    final.append(l)\n",
        " \n",
        "  for i in range(len(final)):\n",
        "    temp = ''.join(c for c in final[i] if not c.isdigit())\n",
        "    final1.append(temp)\n",
        "  \n",
        "  for i in range(len(final1)):\n",
        "    stem_input=nltk.word_tokenize(final1[i].lower())\n",
        "    stem_text=' '.join([stemmer.stem(word) for word in stem_input])\n",
        "    final2.append(stem_text)\n",
        "\n",
        "  return final2\n"
      ],
      "execution_count": null,
      "outputs": []
    },
    {
      "cell_type": "code",
      "metadata": {
        "id": "exz3ny7bqq8l"
      },
      "source": [
        "# data_obama = read_data('Obama')\n",
        "# data_obama = preprocess(data_obama)\n",
        "# tweets_obama = get_tweets(data_obama)\n",
        "# tweets_obama = clean_tweets(tweets_obama)\n",
        "# tweets_obama = clean_tweets2(tweets_obama)\n",
        "\n",
        "data_romney = read_data('Obama')\n",
        "data_romney = preprocess(data_romney)\n",
        "tweets_romney = get_tweets(data_romney)\n",
        "tweets_romney = clean_tweets(tweets_romney)\n",
        "tweets_romney = clean_tweets2(tweets_romney)\n"
      ],
      "execution_count": null,
      "outputs": []
    },
    {
      "cell_type": "code",
      "metadata": {
        "id": "bNjHsGy-_pSf"
      },
      "source": [
        "# newdata_obama = pd.DataFrame(list(zip(tweets_obama,list(data_obama['Class']))))\n",
        "newdata_romney = pd.DataFrame(list(zip(tweets_romney,list(data_romney['Class']))))"
      ],
      "execution_count": null,
      "outputs": []
    },
    {
      "cell_type": "code",
      "metadata": {
        "id": "ZQfC4NuRAnL3"
      },
      "source": [
        "# newdata_obama.rename(columns={0:'tweet',1:'Class'},inplace=True)\n",
        "newdata_romney.rename(columns={0:'tweet',1:'Class'},inplace=True)"
      ],
      "execution_count": null,
      "outputs": []
    },
    {
      "cell_type": "code",
      "metadata": {
        "colab": {
          "base_uri": "https://localhost:8080/",
          "height": 423
        },
        "id": "hXp2n13tX8Vl",
        "outputId": "388546d1-0938-4847-f82a-08c7476e44d3"
      },
      "source": [
        "newdata_romney"
      ],
      "execution_count": null,
      "outputs": [
        {
          "output_type": "execute_result",
          "data": {
            "text/html": [
              "<div>\n",
              "<style scoped>\n",
              "    .dataframe tbody tr th:only-of-type {\n",
              "        vertical-align: middle;\n",
              "    }\n",
              "\n",
              "    .dataframe tbody tr th {\n",
              "        vertical-align: top;\n",
              "    }\n",
              "\n",
              "    .dataframe thead th {\n",
              "        text-align: right;\n",
              "    }\n",
              "</style>\n",
              "<table border=\"1\" class=\"dataframe\">\n",
              "  <thead>\n",
              "    <tr style=\"text-align: right;\">\n",
              "      <th></th>\n",
              "      <th>tweet</th>\n",
              "      <th>Class</th>\n",
              "    </tr>\n",
              "  </thead>\n",
              "  <tbody>\n",
              "    <tr>\n",
              "      <th>0</th>\n",
              "      <td>kirkpatrick who wore a basebal cap embroid wit...</td>\n",
              "      <td>0</td>\n",
              "    </tr>\n",
              "    <tr>\n",
              "      <th>1</th>\n",
              "      <td>question if romney and obama had a childpunch ...</td>\n",
              "      <td>0</td>\n",
              "    </tr>\n",
              "    <tr>\n",
              "      <th>2</th>\n",
              "      <td>obama debat that cracker ass cracker tonight i...</td>\n",
              "      <td>1</td>\n",
              "    </tr>\n",
              "    <tr>\n",
              "      <th>3</th>\n",
              "      <td>rt slate blame obama for four death in libya b...</td>\n",
              "      <td>0</td>\n",
              "    </tr>\n",
              "    <tr>\n",
              "      <th>4</th>\n",
              "      <td>your miss the point im afraid you do not under...</td>\n",
              "      <td>0</td>\n",
              "    </tr>\n",
              "    <tr>\n",
              "      <th>...</th>\n",
              "      <td>...</td>\n",
              "      <td>...</td>\n",
              "    </tr>\n",
              "    <tr>\n",
              "      <th>6940</th>\n",
              "      <td>the reason ann romney and michel obama match l...</td>\n",
              "      <td>0</td>\n",
              "    </tr>\n",
              "    <tr>\n",
              "      <th>6941</th>\n",
              "      <td>obama kenakan cincin syahadat sejak sma</td>\n",
              "      <td>0</td>\n",
              "    </tr>\n",
              "    <tr>\n",
              "      <th>6942</th>\n",
              "      <td>bitch be like obamafood stamp lmao _ùâ</td>\n",
              "      <td>0</td>\n",
              "    </tr>\n",
              "    <tr>\n",
              "      <th>6943</th>\n",
              "      <td>presid barack obama and republican challeng mi...</td>\n",
              "      <td>0</td>\n",
              "    </tr>\n",
              "    <tr>\n",
              "      <th>6944</th>\n",
              "      <td>thatssorud you tri to get into obama face last...</td>\n",
              "      <td>0</td>\n",
              "    </tr>\n",
              "  </tbody>\n",
              "</table>\n",
              "<p>6945 rows × 2 columns</p>\n",
              "</div>"
            ],
            "text/plain": [
              "                                                  tweet  Class\n",
              "0     kirkpatrick who wore a basebal cap embroid wit...      0\n",
              "1     question if romney and obama had a childpunch ...      0\n",
              "2     obama debat that cracker ass cracker tonight i...      1\n",
              "3     rt slate blame obama for four death in libya b...      0\n",
              "4     your miss the point im afraid you do not under...      0\n",
              "...                                                 ...    ...\n",
              "6940  the reason ann romney and michel obama match l...      0\n",
              "6941            obama kenakan cincin syahadat sejak sma      0\n",
              "6942             bitch be like obamafood stamp lmao _ùâ      0\n",
              "6943  presid barack obama and republican challeng mi...      0\n",
              "6944  thatssorud you tri to get into obama face last...      0\n",
              "\n",
              "[6945 rows x 2 columns]"
            ]
          },
          "metadata": {},
          "execution_count": 136
        }
      ]
    },
    {
      "cell_type": "code",
      "metadata": {
        "id": "jHdwjwIO0KBI"
      },
      "source": [
        "from sklearn.feature_extraction.text import TfidfVectorizer\n",
        "\n",
        "def create_tfidfVectorizer(df):\n",
        "  tfidf=TfidfVectorizer()\n",
        "  \n",
        "  tfidf_matrix=tfidf.fit_transform(df['tweet'])\n",
        "  \n",
        "  df_tfidf = pd.DataFrame(tfidf_matrix.todense())\n",
        "  \n",
        "  return df_tfidf"
      ],
      "execution_count": null,
      "outputs": []
    },
    {
      "cell_type": "code",
      "metadata": {
        "id": "0Ra_cDTUyyUo"
      },
      "source": [
        "target_df = newdata_romney['Class']\n",
        "newdata_romney.drop('Class',axis=1,inplace=True)"
      ],
      "execution_count": null,
      "outputs": []
    },
    {
      "cell_type": "code",
      "metadata": {
        "id": "eM_Iei9N9sKd"
      },
      "source": [
        "newdata_romney = create_tfidfVectorizer(newdata_romney)"
      ],
      "execution_count": null,
      "outputs": []
    },
    {
      "cell_type": "code",
      "metadata": {
        "id": "8gBPXy4CEOOH"
      },
      "source": [
        "# from sklearn.model_selection import train_test_split\n",
        "# x, x1, y, y1 = train_test_split(newdata_romney,target_df,test_size=0.3,random_state=2)\n"
      ],
      "execution_count": null,
      "outputs": []
    },
    {
      "cell_type": "markdown",
      "metadata": {
        "id": "XPhiINlBfY3X"
      },
      "source": [
        "# Test Dataset"
      ]
    },
    {
      "cell_type": "code",
      "metadata": {
        "id": "N1vOJqCfEBCf"
      },
      "source": [
        "testset = pd.read_excel('final-testData-no-label-Obama-tweets(2).xlsx',header=None)"
      ],
      "execution_count": null,
      "outputs": []
    },
    {
      "cell_type": "code",
      "metadata": {
        "id": "Izusnb0x5P57",
        "colab": {
          "base_uri": "https://localhost:8080/",
          "height": 423
        },
        "outputId": "6d5a30f2-dc5d-4ce5-e5ce-2523cf320614"
      },
      "source": [
        "testset"
      ],
      "execution_count": null,
      "outputs": [
        {
          "output_type": "execute_result",
          "data": {
            "text/html": [
              "<div>\n",
              "<style scoped>\n",
              "    .dataframe tbody tr th:only-of-type {\n",
              "        vertical-align: middle;\n",
              "    }\n",
              "\n",
              "    .dataframe tbody tr th {\n",
              "        vertical-align: top;\n",
              "    }\n",
              "\n",
              "    .dataframe thead th {\n",
              "        text-align: right;\n",
              "    }\n",
              "</style>\n",
              "<table border=\"1\" class=\"dataframe\">\n",
              "  <thead>\n",
              "    <tr style=\"text-align: right;\">\n",
              "      <th></th>\n",
              "      <th>0</th>\n",
              "      <th>1</th>\n",
              "    </tr>\n",
              "  </thead>\n",
              "  <tbody>\n",
              "    <tr>\n",
              "      <th>0</th>\n",
              "      <td>1</td>\n",
              "      <td>&lt;e&gt;Obama&lt;/e&gt; has to maintain his professionali...</td>\n",
              "    </tr>\n",
              "    <tr>\n",
              "      <th>1</th>\n",
              "      <td>2</td>\n",
              "      <td>&lt;e&gt;Obama&lt;/e&gt; went into the debate swinging and...</td>\n",
              "    </tr>\n",
              "    <tr>\n",
              "      <th>2</th>\n",
              "      <td>3</td>\n",
              "      <td>Ditto. I started @247LS 4 years ago. RT @bmorr...</td>\n",
              "    </tr>\n",
              "    <tr>\n",
              "      <th>3</th>\n",
              "      <td>4</td>\n",
              "      <td>I absolutely love &lt;e&gt;Obama&lt;/e&gt;'s view in &lt;a&gt;im...</td>\n",
              "    </tr>\n",
              "    <tr>\n",
              "      <th>4</th>\n",
              "      <td>5</td>\n",
              "      <td>I'm agreeing completely with &lt;e&gt;Obama&lt;/e&gt;'s st...</td>\n",
              "    </tr>\n",
              "    <tr>\n",
              "      <th>...</th>\n",
              "      <td>...</td>\n",
              "      <td>...</td>\n",
              "    </tr>\n",
              "    <tr>\n",
              "      <th>1946</th>\n",
              "      <td>1947</td>\n",
              "      <td>@IngrahamAngle Of course O did say \"act of te...</td>\n",
              "    </tr>\n",
              "    <tr>\n",
              "      <th>1947</th>\n",
              "      <td>1948</td>\n",
              "      <td>‰ÛÏIt is highly offensive that the &lt;e&gt;Obama&lt;/...</td>\n",
              "    </tr>\n",
              "    <tr>\n",
              "      <th>1948</th>\n",
              "      <td>1949</td>\n",
              "      <td>KEEP THE GOOD NEWS COMING! Obama's lead over ...</td>\n",
              "    </tr>\n",
              "    <tr>\n",
              "      <th>1949</th>\n",
              "      <td>1950</td>\n",
              "      <td>#Obama said &lt;a&gt;gas prices&lt;/a&gt; low under Bush ...</td>\n",
              "    </tr>\n",
              "    <tr>\n",
              "      <th>1950</th>\n",
              "      <td>1951</td>\n",
              "      <td>@BarackObama &lt;e&gt;Romney&lt;/e&gt;. &lt;e&gt;Obama&lt;/e&gt; need...</td>\n",
              "    </tr>\n",
              "  </tbody>\n",
              "</table>\n",
              "<p>1951 rows × 2 columns</p>\n",
              "</div>"
            ],
            "text/plain": [
              "         0                                                  1\n",
              "0        1  <e>Obama</e> has to maintain his professionali...\n",
              "1        2  <e>Obama</e> went into the debate swinging and...\n",
              "2        3  Ditto. I started @247LS 4 years ago. RT @bmorr...\n",
              "3        4  I absolutely love <e>Obama</e>'s view in <a>im...\n",
              "4        5  I'm agreeing completely with <e>Obama</e>'s st...\n",
              "...    ...                                                ...\n",
              "1946  1947   @IngrahamAngle Of course O did say \"act of te...\n",
              "1947  1948   ‰ÛÏIt is highly offensive that the <e>Obama</...\n",
              "1948  1949   KEEP THE GOOD NEWS COMING! Obama's lead over ...\n",
              "1949  1950   #Obama said <a>gas prices</a> low under Bush ...\n",
              "1950  1951   @BarackObama <e>Romney</e>. <e>Obama</e> need...\n",
              "\n",
              "[1951 rows x 2 columns]"
            ]
          },
          "metadata": {},
          "execution_count": 142
        }
      ]
    },
    {
      "cell_type": "code",
      "metadata": {
        "id": "i3kBJgyh_d4F"
      },
      "source": [
        "testset=testset[[1]]"
      ],
      "execution_count": null,
      "outputs": []
    },
    {
      "cell_type": "code",
      "metadata": {
        "id": "w0DCeJqpECPK",
        "colab": {
          "base_uri": "https://localhost:8080/",
          "height": 423
        },
        "outputId": "da8b5c52-7fe5-4327-b2be-a97be161f6d2"
      },
      "source": [
        "# testset.drop([0,1,2],axis=1,inplace=True)\n",
        "testset "
      ],
      "execution_count": null,
      "outputs": [
        {
          "output_type": "execute_result",
          "data": {
            "text/html": [
              "<div>\n",
              "<style scoped>\n",
              "    .dataframe tbody tr th:only-of-type {\n",
              "        vertical-align: middle;\n",
              "    }\n",
              "\n",
              "    .dataframe tbody tr th {\n",
              "        vertical-align: top;\n",
              "    }\n",
              "\n",
              "    .dataframe thead th {\n",
              "        text-align: right;\n",
              "    }\n",
              "</style>\n",
              "<table border=\"1\" class=\"dataframe\">\n",
              "  <thead>\n",
              "    <tr style=\"text-align: right;\">\n",
              "      <th></th>\n",
              "      <th>1</th>\n",
              "    </tr>\n",
              "  </thead>\n",
              "  <tbody>\n",
              "    <tr>\n",
              "      <th>0</th>\n",
              "      <td>&lt;e&gt;Obama&lt;/e&gt; has to maintain his professionali...</td>\n",
              "    </tr>\n",
              "    <tr>\n",
              "      <th>1</th>\n",
              "      <td>&lt;e&gt;Obama&lt;/e&gt; went into the debate swinging and...</td>\n",
              "    </tr>\n",
              "    <tr>\n",
              "      <th>2</th>\n",
              "      <td>Ditto. I started @247LS 4 years ago. RT @bmorr...</td>\n",
              "    </tr>\n",
              "    <tr>\n",
              "      <th>3</th>\n",
              "      <td>I absolutely love &lt;e&gt;Obama&lt;/e&gt;'s view in &lt;a&gt;im...</td>\n",
              "    </tr>\n",
              "    <tr>\n",
              "      <th>4</th>\n",
              "      <td>I'm agreeing completely with &lt;e&gt;Obama&lt;/e&gt;'s st...</td>\n",
              "    </tr>\n",
              "    <tr>\n",
              "      <th>...</th>\n",
              "      <td>...</td>\n",
              "    </tr>\n",
              "    <tr>\n",
              "      <th>1946</th>\n",
              "      <td>@IngrahamAngle Of course O did say \"act of te...</td>\n",
              "    </tr>\n",
              "    <tr>\n",
              "      <th>1947</th>\n",
              "      <td>‰ÛÏIt is highly offensive that the &lt;e&gt;Obama&lt;/...</td>\n",
              "    </tr>\n",
              "    <tr>\n",
              "      <th>1948</th>\n",
              "      <td>KEEP THE GOOD NEWS COMING! Obama's lead over ...</td>\n",
              "    </tr>\n",
              "    <tr>\n",
              "      <th>1949</th>\n",
              "      <td>#Obama said &lt;a&gt;gas prices&lt;/a&gt; low under Bush ...</td>\n",
              "    </tr>\n",
              "    <tr>\n",
              "      <th>1950</th>\n",
              "      <td>@BarackObama &lt;e&gt;Romney&lt;/e&gt;. &lt;e&gt;Obama&lt;/e&gt; need...</td>\n",
              "    </tr>\n",
              "  </tbody>\n",
              "</table>\n",
              "<p>1951 rows × 1 columns</p>\n",
              "</div>"
            ],
            "text/plain": [
              "                                                      1\n",
              "0     <e>Obama</e> has to maintain his professionali...\n",
              "1     <e>Obama</e> went into the debate swinging and...\n",
              "2     Ditto. I started @247LS 4 years ago. RT @bmorr...\n",
              "3     I absolutely love <e>Obama</e>'s view in <a>im...\n",
              "4     I'm agreeing completely with <e>Obama</e>'s st...\n",
              "...                                                 ...\n",
              "1946   @IngrahamAngle Of course O did say \"act of te...\n",
              "1947   ‰ÛÏIt is highly offensive that the <e>Obama</...\n",
              "1948   KEEP THE GOOD NEWS COMING! Obama's lead over ...\n",
              "1949   #Obama said <a>gas prices</a> low under Bush ...\n",
              "1950   @BarackObama <e>Romney</e>. <e>Obama</e> need...\n",
              "\n",
              "[1951 rows x 1 columns]"
            ]
          },
          "metadata": {},
          "execution_count": 144
        }
      ]
    },
    {
      "cell_type": "code",
      "metadata": {
        "id": "Wnh-b8ghEQa1"
      },
      "source": [
        "testset = testset.rename(columns = {1:'Annotated_tweet'})"
      ],
      "execution_count": null,
      "outputs": []
    },
    {
      "cell_type": "code",
      "metadata": {
        "id": "lpjQDLTkGdlV"
      },
      "source": [
        "tweets_test = get_tweets(testset)\n",
        "tweets_test = clean_tweets(tweets_test)\n",
        "tweets_test = clean_tweets2(tweets_test)"
      ],
      "execution_count": null,
      "outputs": []
    },
    {
      "cell_type": "code",
      "metadata": {
        "id": "TtwhzgoFG-SI"
      },
      "source": [
        "# tweets_test"
      ],
      "execution_count": null,
      "outputs": []
    },
    {
      "cell_type": "code",
      "metadata": {
        "id": "D2uIFaDbI1Tf"
      },
      "source": [
        "new_test = pd.DataFrame(tweets_test)\n",
        "new_test.rename(columns={0:'tweet'},inplace=True)"
      ],
      "execution_count": null,
      "outputs": []
    },
    {
      "cell_type": "code",
      "metadata": {
        "id": "ftO52ClkHwYn"
      },
      "source": [
        "newdata_test = create_tfidfVectorizer(new_test)"
      ],
      "execution_count": null,
      "outputs": []
    },
    {
      "cell_type": "markdown",
      "metadata": {
        "id": "zv6IXQhXZukm"
      },
      "source": [
        "# Modelling"
      ]
    },
    {
      "cell_type": "code",
      "metadata": {
        "id": "0aNzEvgdKjCU"
      },
      "source": [
        "from sklearn.feature_selection import SelectKBest\n",
        "from sklearn.feature_selection import chi2\n",
        "from sklearn.linear_model import LogisticRegression\n",
        "from sklearn.ensemble import RandomForestClassifier\n",
        "# model = RandomForestClassifier()\n",
        "# newdata_romney = pd.DataFrame(SelectKBest(chi2, k=int(len(newdata_test.columns))).fit_transform(newdata_romney, target_df))\n",
        "# model.fit(newdata_romney,target_df)\n",
        "# pred_RFC = model.predict(newdata_test)\n"
      ],
      "execution_count": null,
      "outputs": []
    },
    {
      "cell_type": "code",
      "metadata": {
        "id": "CuH4nPaW3jei"
      },
      "source": [
        "Log_Reg = LogisticRegression(random_state=0,solver='lbfgs',max_iter=1000)\n",
        "xtemp = pd.DataFrame(SelectKBest(chi2, k=int(len(newdata_test.columns))).fit_transform(newdata_romney,target_df))\n",
        "Log_Reg.fit(xtemp,target_df)\n",
        "prediction = Log_Reg.predict_proba(newdata_test)\n",
        "pred_LR=[]\n",
        "for i in range(len(prediction)):\n",
        "  temp = list(prediction[i])\n",
        "  val=temp.index(max(temp))-1\n",
        "  pred_LR.append(val)"
      ],
      "execution_count": null,
      "outputs": []
    },
    {
      "cell_type": "code",
      "metadata": {
        "id": "VQ39Kqvopoxm"
      },
      "source": [
        "from sklearn.metrics import f1_score\n",
        "from sklearn.metrics import accuracy_score\n",
        "import numpy as np\n",
        "\n",
        "# print('accuracy of logistic regression model is :',accuracy_score(predictions,y1))\n",
        "\n",
        "# print(\"accuracy of Random Forest Classifier : \",accuracy_score(predictions1,y1))"
      ],
      "execution_count": null,
      "outputs": []
    },
    {
      "cell_type": "code",
      "metadata": {
        "id": "5St-R2hqpuob"
      },
      "source": [
        "from sklearn import svm\n",
        "\n",
        "from matplotlib.colors import ListedColormap\n",
        "from sklearn import metrics\n",
        "\n",
        "# # clf1 is a linear svm classifier\n",
        "# clf1 = svm.SVC(kernel = 'linear')\n",
        "# xtemp = pd.DataFrame(SelectKBest(chi2, k=int(len(newdata_test.columns))).fit_transform(newdata_romney,target_df))\n",
        "# clf1.fit(xtemp,target_df)\n",
        "# pred_svm = clf1.predict(newdata_test)\n",
        "# pred_svm\n",
        "#Display the outcome of classification\n",
        "# print(metrics.classification_report(y1, prediction))\n",
        "# print(\"accuracy is : \",accuracy_score(prediction,y1))"
      ],
      "execution_count": null,
      "outputs": []
    },
    {
      "cell_type": "code",
      "metadata": {
        "id": "eu1AN4jBvK6u"
      },
      "source": [
        ""
      ],
      "execution_count": null,
      "outputs": []
    },
    {
      "cell_type": "code",
      "metadata": {
        "id": "j7HAJk2MrnZd"
      },
      "source": [
        "from sklearn.tree import DecisionTreeClassifier\n",
        "from sklearn.model_selection import train_test_split\n",
        "from sklearn import metrics\n",
        "\n",
        "\n",
        "# clf = DecisionTreeClassifier(criterion = 'entropy')\n",
        "# xtemp = pd.DataFrame(SelectKBest(chi2, k=int(len(newdata_test.columns))).fit_transform(newdata_romney,target_df))\n",
        "# model = clf.fit(xtemp,target_df)\n",
        "\n",
        "# pred_DT = clf1.predict(newdata_test)\n",
        "\n",
        "# pred_DT\n",
        "\n",
        "#Display the outcome of classification\n",
        "# print(metrics.classification_report(y1, prediction))\n",
        "\n",
        "# accuracy_score(y1,prediction)"
      ],
      "execution_count": null,
      "outputs": []
    },
    {
      "cell_type": "code",
      "metadata": {
        "id": "wABO-hPbrrXq"
      },
      "source": [
        "# from sklearn.naive_bayes import GaussianNB\n",
        "\n",
        "# Gaussian_model=GaussianNB()\n",
        "# newdata_romney = pd.DataFrame(SelectKBest(chi2, k=int(len(newdata_test.columns))).fit_transform(newdata_romney,target_df))\n",
        "# Gaussian_model.fit(newdata_romney,target_df)\n",
        "# pred_NB = Gaussian_model.predict(newdata_test)\n",
        "# print(\"Accuracy\",metrics.accuracy_score(, ypred))\n",
        "# print(\"Confusion Matrix \\n\",metrics.confusion_matrix(y1, ypred))"
      ],
      "execution_count": null,
      "outputs": []
    },
    {
      "cell_type": "code",
      "metadata": {
        "id": "vU7xddEWVn0V"
      },
      "source": [
        "# from sklearn.linear_model import SGDClassifier\n",
        "# sgd = SGDClassifier(loss='modified_huber', max_iter=1000, tol=1e-3,   n_iter_no_change=10, early_stopping=True, n_jobs=-1 )\n",
        "# xtemp = pd.DataFrame(SelectKBest(chi2,k=int(len(newdata_test.columns))).fit_transform(newdata_romney,target_df))\n",
        "# sgd.fit(xtemp,target_df)\n",
        "# pred_SGD = sgd.predict(newdata_test)"
      ],
      "execution_count": null,
      "outputs": []
    },
    {
      "cell_type": "code",
      "metadata": {
        "id": "B0FJXB60WsAn"
      },
      "source": [
        ""
      ],
      "execution_count": null,
      "outputs": []
    },
    {
      "cell_type": "code",
      "metadata": {
        "id": "RIgcyMvRuec3",
        "colab": {
          "base_uri": "https://localhost:8080/",
          "height": 34
        },
        "outputId": "c9c8a84b-9dcb-4678-e713-ee1277782117"
      },
      "source": [
        "import numpy as np\n",
        "from google.colab import files\n",
        "l=[]\n",
        "l.append('74 56')\n",
        "for i in range(len(newdata_test)):\n",
        "  l.append(str(i)+';;'+str(pred_LR[i]))\n",
        "l1 = pd.DataFrame(l) \n",
        "np.savetxt(r'Obama', l1.values,fmt=\"%s\")\n",
        "files.download('Obama')"
      ],
      "execution_count": null,
      "outputs": [
        {
          "output_type": "display_data",
          "data": {
            "application/javascript": [
              "\n",
              "    async function download(id, filename, size) {\n",
              "      if (!google.colab.kernel.accessAllowed) {\n",
              "        return;\n",
              "      }\n",
              "      const div = document.createElement('div');\n",
              "      const label = document.createElement('label');\n",
              "      label.textContent = `Downloading \"${filename}\": `;\n",
              "      div.appendChild(label);\n",
              "      const progress = document.createElement('progress');\n",
              "      progress.max = size;\n",
              "      div.appendChild(progress);\n",
              "      document.body.appendChild(div);\n",
              "\n",
              "      const buffers = [];\n",
              "      let downloaded = 0;\n",
              "\n",
              "      const channel = await google.colab.kernel.comms.open(id);\n",
              "      // Send a message to notify the kernel that we're ready.\n",
              "      channel.send({})\n",
              "\n",
              "      for await (const message of channel.messages) {\n",
              "        // Send a message to notify the kernel that we're ready.\n",
              "        channel.send({})\n",
              "        if (message.buffers) {\n",
              "          for (const buffer of message.buffers) {\n",
              "            buffers.push(buffer);\n",
              "            downloaded += buffer.byteLength;\n",
              "            progress.value = downloaded;\n",
              "          }\n",
              "        }\n",
              "      }\n",
              "      const blob = new Blob(buffers, {type: 'application/binary'});\n",
              "      const a = document.createElement('a');\n",
              "      a.href = window.URL.createObjectURL(blob);\n",
              "      a.download = filename;\n",
              "      div.appendChild(a);\n",
              "      a.click();\n",
              "      div.remove();\n",
              "    }\n",
              "  "
            ],
            "text/plain": [
              "<IPython.core.display.Javascript object>"
            ]
          },
          "metadata": {}
        },
        {
          "output_type": "display_data",
          "data": {
            "application/javascript": [
              "download(\"download_d32abdc1-059f-4267-bcd4-e819f81bab4a\", \"romney\", 15059)"
            ],
            "text/plain": [
              "<IPython.core.display.Javascript object>"
            ]
          },
          "metadata": {}
        }
      ]
    },
    {
      "cell_type": "code",
      "metadata": {
        "id": "e638WgwJug4v"
      },
      "source": [
        ""
      ],
      "execution_count": null,
      "outputs": []
    },
    {
      "cell_type": "code",
      "metadata": {
        "id": "rIpPlbalWg7n"
      },
      "source": [
        ""
      ],
      "execution_count": null,
      "outputs": []
    }
  ]
}